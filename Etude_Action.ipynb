{
 "cells": [
  {
   "cell_type": "markdown",
   "id": "e1d5cce6",
   "metadata": {},
   "source": [
    "# 1-/ Gestion des données"
   ]
  },
  {
   "cell_type": "code",
   "execution_count": 4,
   "id": "0b2dd52b",
   "metadata": {},
   "outputs": [
    {
     "name": "stdout",
     "output_type": "stream",
     "text": [
      "Requirement already satisfied: pydataset in c:\\users\\phdes\\anaconda3\\lib\\site-packages (0.2.0)\n",
      "Requirement already satisfied: pandas in c:\\users\\phdes\\anaconda3\\lib\\site-packages (from pydataset) (1.4.2)\n",
      "Requirement already satisfied: pytz>=2020.1 in c:\\users\\phdes\\anaconda3\\lib\\site-packages (from pandas->pydataset) (2021.3)\n",
      "Requirement already satisfied: numpy>=1.18.5 in c:\\users\\phdes\\anaconda3\\lib\\site-packages (from pandas->pydataset) (1.21.5)\n",
      "Requirement already satisfied: python-dateutil>=2.8.1 in c:\\users\\phdes\\anaconda3\\lib\\site-packages (from pandas->pydataset) (2.8.2)\n",
      "Requirement already satisfied: six>=1.5 in c:\\users\\phdes\\anaconda3\\lib\\site-packages (from python-dateutil>=2.8.1->pandas->pydataset) (1.16.0)\n",
      "Requirement already satisfied: yfinance in c:\\users\\phdes\\anaconda3\\lib\\site-packages (0.1.87)\n",
      "Requirement already satisfied: multitasking>=0.0.7 in c:\\users\\phdes\\anaconda3\\lib\\site-packages (from yfinance) (0.0.11)\n",
      "Requirement already satisfied: pandas>=0.24.0 in c:\\users\\phdes\\anaconda3\\lib\\site-packages (from yfinance) (1.4.2)\n",
      "Requirement already satisfied: requests>=2.26 in c:\\users\\phdes\\anaconda3\\lib\\site-packages (from yfinance) (2.27.1)\n",
      "Requirement already satisfied: appdirs>=1.4.4 in c:\\users\\phdes\\anaconda3\\lib\\site-packages (from yfinance) (1.4.4)\n",
      "Requirement already satisfied: lxml>=4.5.1 in c:\\users\\phdes\\anaconda3\\lib\\site-packages (from yfinance) (4.8.0)\n",
      "Requirement already satisfied: numpy>=1.15 in c:\\users\\phdes\\anaconda3\\lib\\site-packages (from yfinance) (1.21.5)\n",
      "Requirement already satisfied: python-dateutil>=2.8.1 in c:\\users\\phdes\\anaconda3\\lib\\site-packages (from pandas>=0.24.0->yfinance) (2.8.2)\n",
      "Requirement already satisfied: pytz>=2020.1 in c:\\users\\phdes\\anaconda3\\lib\\site-packages (from pandas>=0.24.0->yfinance) (2021.3)\n",
      "Requirement already satisfied: six>=1.5 in c:\\users\\phdes\\anaconda3\\lib\\site-packages (from python-dateutil>=2.8.1->pandas>=0.24.0->yfinance) (1.16.0)\n",
      "Requirement already satisfied: urllib3<1.27,>=1.21.1 in c:\\users\\phdes\\anaconda3\\lib\\site-packages (from requests>=2.26->yfinance) (1.26.9)\n",
      "Requirement already satisfied: charset-normalizer~=2.0.0 in c:\\users\\phdes\\anaconda3\\lib\\site-packages (from requests>=2.26->yfinance) (2.0.4)\n",
      "Requirement already satisfied: idna<4,>=2.5 in c:\\users\\phdes\\anaconda3\\lib\\site-packages (from requests>=2.26->yfinance) (3.3)\n",
      "Requirement already satisfied: certifi>=2017.4.17 in c:\\users\\phdes\\anaconda3\\lib\\site-packages (from requests>=2.26->yfinance) (2021.10.8)\n",
      "Requirement already satisfied: nbconvert[webpdf] in c:\\users\\phdes\\anaconda3\\lib\\site-packages (6.4.4)\n",
      "Requirement already satisfied: testpath in c:\\users\\phdes\\anaconda3\\lib\\site-packages (from nbconvert[webpdf]) (0.5.0)\n",
      "Requirement already satisfied: beautifulsoup4 in c:\\users\\phdes\\anaconda3\\lib\\site-packages (from nbconvert[webpdf]) (4.11.1)\n",
      "Requirement already satisfied: bleach in c:\\users\\phdes\\anaconda3\\lib\\site-packages (from nbconvert[webpdf]) (4.1.0)\n",
      "Requirement already satisfied: pygments>=2.4.1 in c:\\users\\phdes\\anaconda3\\lib\\site-packages (from nbconvert[webpdf]) (2.11.2)\n",
      "Requirement already satisfied: pandocfilters>=1.4.1 in c:\\users\\phdes\\anaconda3\\lib\\site-packages (from nbconvert[webpdf]) (1.5.0)\n",
      "Requirement already satisfied: entrypoints>=0.2.2 in c:\\users\\phdes\\anaconda3\\lib\\site-packages (from nbconvert[webpdf]) (0.4)\n",
      "Requirement already satisfied: traitlets>=5.0 in c:\\users\\phdes\\anaconda3\\lib\\site-packages (from nbconvert[webpdf]) (5.1.1)\n",
      "Requirement already satisfied: mistune<2,>=0.8.1 in c:\\users\\phdes\\anaconda3\\lib\\site-packages (from nbconvert[webpdf]) (0.8.4)\n",
      "Requirement already satisfied: defusedxml in c:\\users\\phdes\\anaconda3\\lib\\site-packages (from nbconvert[webpdf]) (0.7.1)\n",
      "Requirement already satisfied: jupyterlab-pygments in c:\\users\\phdes\\anaconda3\\lib\\site-packages (from nbconvert[webpdf]) (0.1.2)\n",
      "Requirement already satisfied: nbformat>=4.4 in c:\\users\\phdes\\anaconda3\\lib\\site-packages (from nbconvert[webpdf]) (5.3.0)\n",
      "Requirement already satisfied: jinja2>=2.4 in c:\\users\\phdes\\anaconda3\\lib\\site-packages (from nbconvert[webpdf]) (2.11.3)\n",
      "Requirement already satisfied: nbclient<0.6.0,>=0.5.0 in c:\\users\\phdes\\anaconda3\\lib\\site-packages (from nbconvert[webpdf]) (0.5.13)\n",
      "Requirement already satisfied: jupyter-core in c:\\users\\phdes\\anaconda3\\lib\\site-packages (from nbconvert[webpdf]) (4.9.2)\n",
      "Requirement already satisfied: pyppeteer<1.1,>=1 in c:\\users\\phdes\\anaconda3\\lib\\site-packages (from nbconvert[webpdf]) (1.0.2)\n",
      "Requirement already satisfied: MarkupSafe>=0.23 in c:\\users\\phdes\\anaconda3\\lib\\site-packages (from jinja2>=2.4->nbconvert[webpdf]) (2.0.1)\n",
      "Requirement already satisfied: nest-asyncio in c:\\users\\phdes\\anaconda3\\lib\\site-packages (from nbclient<0.6.0,>=0.5.0->nbconvert[webpdf]) (1.5.5)\n",
      "Requirement already satisfied: jupyter-client>=6.1.5 in c:\\users\\phdes\\anaconda3\\lib\\site-packages (from nbclient<0.6.0,>=0.5.0->nbconvert[webpdf]) (6.1.12)\n",
      "Requirement already satisfied: pyzmq>=13 in c:\\users\\phdes\\anaconda3\\lib\\site-packages (from jupyter-client>=6.1.5->nbclient<0.6.0,>=0.5.0->nbconvert[webpdf]) (22.3.0)\n",
      "Requirement already satisfied: python-dateutil>=2.1 in c:\\users\\phdes\\anaconda3\\lib\\site-packages (from jupyter-client>=6.1.5->nbclient<0.6.0,>=0.5.0->nbconvert[webpdf]) (2.8.2)\n",
      "Requirement already satisfied: tornado>=4.1 in c:\\users\\phdes\\anaconda3\\lib\\site-packages (from jupyter-client>=6.1.5->nbclient<0.6.0,>=0.5.0->nbconvert[webpdf]) (6.1)\n",
      "Requirement already satisfied: pywin32>=1.0 in c:\\users\\phdes\\anaconda3\\lib\\site-packages (from jupyter-core->nbconvert[webpdf]) (302)\n",
      "Requirement already satisfied: fastjsonschema in c:\\users\\phdes\\anaconda3\\lib\\site-packages (from nbformat>=4.4->nbconvert[webpdf]) (2.15.1)\n",
      "Requirement already satisfied: jsonschema>=2.6 in c:\\users\\phdes\\anaconda3\\lib\\site-packages (from nbformat>=4.4->nbconvert[webpdf]) (4.4.0)\n",
      "Requirement already satisfied: pyrsistent!=0.17.0,!=0.17.1,!=0.17.2,>=0.14.0 in c:\\users\\phdes\\anaconda3\\lib\\site-packages (from jsonschema>=2.6->nbformat>=4.4->nbconvert[webpdf]) (0.18.0)\n",
      "Requirement already satisfied: attrs>=17.4.0 in c:\\users\\phdes\\anaconda3\\lib\\site-packages (from jsonschema>=2.6->nbformat>=4.4->nbconvert[webpdf]) (21.4.0)\n",
      "Requirement already satisfied: appdirs<2.0.0,>=1.4.3 in c:\\users\\phdes\\anaconda3\\lib\\site-packages (from pyppeteer<1.1,>=1->nbconvert[webpdf]) (1.4.4)\n",
      "Requirement already satisfied: certifi>=2021 in c:\\users\\phdes\\anaconda3\\lib\\site-packages (from pyppeteer<1.1,>=1->nbconvert[webpdf]) (2021.10.8)\n",
      "Requirement already satisfied: tqdm<5.0.0,>=4.42.1 in c:\\users\\phdes\\anaconda3\\lib\\site-packages (from pyppeteer<1.1,>=1->nbconvert[webpdf]) (4.64.0)\n",
      "Requirement already satisfied: importlib-metadata>=1.4 in c:\\users\\phdes\\anaconda3\\lib\\site-packages (from pyppeteer<1.1,>=1->nbconvert[webpdf]) (4.11.3)\n",
      "Requirement already satisfied: pyee<9.0.0,>=8.1.0 in c:\\users\\phdes\\anaconda3\\lib\\site-packages (from pyppeteer<1.1,>=1->nbconvert[webpdf]) (8.2.2)\n",
      "Requirement already satisfied: urllib3<2.0.0,>=1.25.8 in c:\\users\\phdes\\anaconda3\\lib\\site-packages (from pyppeteer<1.1,>=1->nbconvert[webpdf]) (1.26.9)\n",
      "Requirement already satisfied: websockets<11.0,>=10.0 in c:\\users\\phdes\\anaconda3\\lib\\site-packages (from pyppeteer<1.1,>=1->nbconvert[webpdf]) (10.4)\n",
      "Requirement already satisfied: zipp>=0.5 in c:\\users\\phdes\\anaconda3\\lib\\site-packages (from importlib-metadata>=1.4->pyppeteer<1.1,>=1->nbconvert[webpdf]) (3.7.0)\n",
      "Requirement already satisfied: six>=1.5 in c:\\users\\phdes\\anaconda3\\lib\\site-packages (from python-dateutil>=2.1->jupyter-client>=6.1.5->nbclient<0.6.0,>=0.5.0->nbconvert[webpdf]) (1.16.0)\n",
      "Requirement already satisfied: colorama in c:\\users\\phdes\\anaconda3\\lib\\site-packages (from tqdm<5.0.0,>=4.42.1->pyppeteer<1.1,>=1->nbconvert[webpdf]) (0.4.4)\n",
      "Requirement already satisfied: soupsieve>1.2 in c:\\users\\phdes\\anaconda3\\lib\\site-packages (from beautifulsoup4->nbconvert[webpdf]) (2.3.1)\n",
      "Requirement already satisfied: webencodings in c:\\users\\phdes\\anaconda3\\lib\\site-packages (from bleach->nbconvert[webpdf]) (0.5.1)\n",
      "Requirement already satisfied: packaging in c:\\users\\phdes\\anaconda3\\lib\\site-packages (from bleach->nbconvert[webpdf]) (21.3)\n",
      "Requirement already satisfied: pyparsing!=3.0.5,>=2.0.2 in c:\\users\\phdes\\anaconda3\\lib\\site-packages (from packaging->bleach->nbconvert[webpdf]) (3.0.4)\n"
     ]
    },
    {
     "name": "stderr",
     "output_type": "stream",
     "text": [
      "[NbConvertApp] Converting notebook Etude_Action.ipynb to webpdf\n",
      "[NbConvertApp] Building PDF\n",
      "[INFO] Starting Chromium download.\n",
      "\n",
      "  0%|          | 0.00/137M [00:00<?, ?b/s]\n",
      "  0%|          | 51.2k/137M [00:00<04:37, 492kb/s]\n",
      "  0%|          | 102k/137M [00:00<04:34, 498kb/s] \n",
      "  0%|          | 246k/137M [00:00<02:29, 917kb/s]\n",
      "  0%|          | 563k/137M [00:00<01:16, 1.79Mb/s]\n",
      "  1%|          | 1.25M/137M [00:00<00:38, 3.57Mb/s]\n",
      "  2%|2         | 2.89M/137M [00:00<00:17, 7.86Mb/s]\n",
      "  5%|5         | 6.85M/137M [00:00<00:07, 18.1Mb/s]\n",
      "  8%|8         | 11.0M/137M [00:00<00:04, 25.2Mb/s]\n",
      " 10%|9         | 13.6M/137M [00:00<00:05, 23.3Mb/s]\n",
      " 13%|#3        | 18.4M/137M [00:01<00:03, 30.5Mb/s]\n",
      " 17%|#7        | 23.9M/137M [00:01<00:03, 37.4Mb/s]\n",
      " 21%|##1       | 29.3M/137M [00:01<00:02, 42.2Mb/s]\n",
      " 25%|##5       | 34.2M/137M [00:01<00:02, 43.8Mb/s]\n",
      " 29%|##8       | 39.2M/137M [00:01<00:02, 45.4Mb/s]\n",
      " 32%|###2      | 43.9M/137M [00:01<00:02, 45.8Mb/s]\n",
      " 36%|###5      | 48.9M/137M [00:01<00:01, 47.0Mb/s]\n",
      " 39%|###9      | 53.6M/137M [00:01<00:01, 46.9Mb/s]\n",
      " 43%|####2     | 58.4M/137M [00:01<00:01, 47.2Mb/s]\n",
      " 46%|####6     | 63.2M/137M [00:01<00:01, 46.7Mb/s]\n",
      " 50%|####9     | 68.1M/137M [00:02<00:01, 47.4Mb/s]\n",
      " 53%|#####3    | 73.0M/137M [00:02<00:01, 47.5Mb/s]\n",
      " 57%|#####6    | 77.8M/137M [00:02<00:01, 47.6Mb/s]\n",
      " 60%|######    | 82.5M/137M [00:02<00:01, 47.0Mb/s]\n",
      " 64%|######3   | 87.5M/137M [00:02<00:01, 47.7Mb/s]\n",
      " 67%|######7   | 92.3M/137M [00:02<00:00, 47.6Mb/s]\n",
      " 71%|#######1  | 97.2M/137M [00:02<00:00, 48.3Mb/s]\n",
      " 75%|#######4  | 102M/137M [00:02<00:00, 47.5Mb/s] \n",
      " 78%|#######8  | 107M/137M [00:02<00:00, 47.4Mb/s]\n",
      " 82%|########1 | 112M/137M [00:02<00:00, 47.4Mb/s]\n",
      " 85%|########4 | 116M/137M [00:03<00:00, 47.5Mb/s]\n",
      " 88%|########8 | 121M/137M [00:03<00:00, 47.0Mb/s]\n",
      " 92%|#########2| 126M/137M [00:03<00:00, 47.7Mb/s]\n",
      " 96%|#########5| 131M/137M [00:03<00:00, 47.5Mb/s]\n",
      " 99%|#########9| 136M/137M [00:03<00:00, 48.2Mb/s]\n",
      "100%|##########| 137M/137M [00:03<00:00, 39.1Mb/s]\n",
      "[INFO] Beginning extraction\n",
      "[INFO] Chromium extracted to: C:\\Users\\phdes\\AppData\\Local\\pyppeteer\\pyppeteer\\local-chromium\\588429\n",
      "[NbConvertApp] PDF successfully created\n",
      "[NbConvertApp] Writing 353293 bytes to Etude_Action.pdf\n"
     ]
    }
   ],
   "source": [
    "!pip install pydataset \n",
    "from pydataset import data\n",
    "! pip install yfinance\n",
    "import yfinance as yf\n",
    "import numpy as np\n",
    "import matplotlib.pyplot as plt\n",
    "import statsmodels.api as sm\n",
    "import pandas as pd\n",
    "import statistics as stat\n",
    "import math\n",
    "from scipy.stats import norm\n",
    "from scipy.optimize import minimize\n",
    "!pip install nbconvert[webpdf]\n",
    "!jupyter nbconvert --to webpdf --allow-chromium-download Etude_Action.ipynb"
   ]
  },
  {
   "cell_type": "markdown",
   "id": "3bc61f54",
   "metadata": {},
   "source": []
  },
  {
   "cell_type": "code",
   "execution_count": null,
   "id": "ea23cace",
   "metadata": {},
   "outputs": [],
   "source": []
  },
  {
   "cell_type": "code",
   "execution_count": null,
   "id": "34348ea0",
   "metadata": {},
   "outputs": [],
   "source": []
  },
  {
   "cell_type": "code",
   "execution_count": 2,
   "id": "76d03c95",
   "metadata": {},
   "outputs": [
    {
     "name": "stdout",
     "output_type": "stream",
     "text": [
      "[*********************100%***********************]  1 of 1 completed\n",
      "[*********************100%***********************]  1 of 1 completed\n",
      "[*********************100%***********************]  1 of 1 completed\n",
      "[*********************100%***********************]  1 of 1 completed\n"
     ]
    }
   ],
   "source": [
    "# On télécharge les données boursières quotidiennes via Yahoo Finance\n",
    "\n",
    "données = yf.download('AAPL' ,start=\"2013-01-01\", end=\"2023-01-01\", interval=\"1d\")\n",
    "Apple = données['Close']\n",
    "\n",
    "données = yf.download('KO' ,start=\"2013-01-01\", end=\"2023-01-01\", interval=\"1d\")\n",
    "Coca = données['Close']\n",
    "\n",
    "données = yf.download('AMZN' ,start=\"2013-01-01\", end=\"2023-01-01\", interval=\"1d\")\n",
    "Amazon = données['Close']\n",
    "\n",
    "données = yf.download('INTC' ,start=\"2013-01-01\", end=\"2023-01-01\", interval=\"1d\")\n",
    "Intel = données['Close']"
   ]
  },
  {
   "cell_type": "code",
   "execution_count": 3,
   "id": "05f0bb7f",
   "metadata": {},
   "outputs": [
    {
     "data": {
      "text/html": [
       "<div>\n",
       "<style scoped>\n",
       "    .dataframe tbody tr th:only-of-type {\n",
       "        vertical-align: middle;\n",
       "    }\n",
       "\n",
       "    .dataframe tbody tr th {\n",
       "        vertical-align: top;\n",
       "    }\n",
       "\n",
       "    .dataframe thead th {\n",
       "        text-align: right;\n",
       "    }\n",
       "</style>\n",
       "<table border=\"1\" class=\"dataframe\">\n",
       "  <thead>\n",
       "    <tr style=\"text-align: right;\">\n",
       "      <th></th>\n",
       "      <th>Apple</th>\n",
       "      <th>Coca</th>\n",
       "      <th>Amazon</th>\n",
       "      <th>Intel</th>\n",
       "    </tr>\n",
       "    <tr>\n",
       "      <th>Date</th>\n",
       "      <th></th>\n",
       "      <th></th>\n",
       "      <th></th>\n",
       "      <th></th>\n",
       "    </tr>\n",
       "  </thead>\n",
       "  <tbody>\n",
       "    <tr>\n",
       "      <th>2013-01-02</th>\n",
       "      <td>19.608213</td>\n",
       "      <td>37.599998</td>\n",
       "      <td>12.865500</td>\n",
       "      <td>21.379999</td>\n",
       "    </tr>\n",
       "    <tr>\n",
       "      <th>2013-01-03</th>\n",
       "      <td>19.360714</td>\n",
       "      <td>37.599998</td>\n",
       "      <td>12.924000</td>\n",
       "      <td>21.320000</td>\n",
       "    </tr>\n",
       "    <tr>\n",
       "      <th>2013-01-04</th>\n",
       "      <td>18.821428</td>\n",
       "      <td>37.660000</td>\n",
       "      <td>12.957500</td>\n",
       "      <td>21.160000</td>\n",
       "    </tr>\n",
       "    <tr>\n",
       "      <th>2013-01-07</th>\n",
       "      <td>18.710714</td>\n",
       "      <td>37.299999</td>\n",
       "      <td>13.423000</td>\n",
       "      <td>21.250000</td>\n",
       "    </tr>\n",
       "    <tr>\n",
       "      <th>2013-01-08</th>\n",
       "      <td>18.761070</td>\n",
       "      <td>37.040001</td>\n",
       "      <td>13.319000</td>\n",
       "      <td>21.090000</td>\n",
       "    </tr>\n",
       "    <tr>\n",
       "      <th>...</th>\n",
       "      <td>...</td>\n",
       "      <td>...</td>\n",
       "      <td>...</td>\n",
       "      <td>...</td>\n",
       "    </tr>\n",
       "    <tr>\n",
       "      <th>2022-12-23</th>\n",
       "      <td>131.860001</td>\n",
       "      <td>63.820000</td>\n",
       "      <td>85.250000</td>\n",
       "      <td>26.090000</td>\n",
       "    </tr>\n",
       "    <tr>\n",
       "      <th>2022-12-27</th>\n",
       "      <td>130.029999</td>\n",
       "      <td>64.209999</td>\n",
       "      <td>83.040001</td>\n",
       "      <td>25.940001</td>\n",
       "    </tr>\n",
       "    <tr>\n",
       "      <th>2022-12-28</th>\n",
       "      <td>126.040001</td>\n",
       "      <td>63.570000</td>\n",
       "      <td>81.820000</td>\n",
       "      <td>25.540001</td>\n",
       "    </tr>\n",
       "    <tr>\n",
       "      <th>2022-12-29</th>\n",
       "      <td>129.610001</td>\n",
       "      <td>63.950001</td>\n",
       "      <td>84.180000</td>\n",
       "      <td>26.209999</td>\n",
       "    </tr>\n",
       "    <tr>\n",
       "      <th>2022-12-30</th>\n",
       "      <td>129.929993</td>\n",
       "      <td>63.610001</td>\n",
       "      <td>84.000000</td>\n",
       "      <td>26.430000</td>\n",
       "    </tr>\n",
       "  </tbody>\n",
       "</table>\n",
       "<p>2518 rows × 4 columns</p>\n",
       "</div>"
      ],
      "text/plain": [
       "                 Apple       Coca     Amazon      Intel\n",
       "Date                                                   \n",
       "2013-01-02   19.608213  37.599998  12.865500  21.379999\n",
       "2013-01-03   19.360714  37.599998  12.924000  21.320000\n",
       "2013-01-04   18.821428  37.660000  12.957500  21.160000\n",
       "2013-01-07   18.710714  37.299999  13.423000  21.250000\n",
       "2013-01-08   18.761070  37.040001  13.319000  21.090000\n",
       "...                ...        ...        ...        ...\n",
       "2022-12-23  131.860001  63.820000  85.250000  26.090000\n",
       "2022-12-27  130.029999  64.209999  83.040001  25.940001\n",
       "2022-12-28  126.040001  63.570000  81.820000  25.540001\n",
       "2022-12-29  129.610001  63.950001  84.180000  26.209999\n",
       "2022-12-30  129.929993  63.610001  84.000000  26.430000\n",
       "\n",
       "[2518 rows x 4 columns]"
      ]
     },
     "execution_count": 3,
     "metadata": {},
     "output_type": "execute_result"
    }
   ],
   "source": [
    "# Creation DataFrame avec nos données puis on les réarrange pour avoir les dates en ordonnées et on renomme les colonnes\n",
    "df = pd.DataFrame([Apple,Coca,Amazon,Intel])\n",
    "df = df.T\n",
    "df.columns = ['Apple', 'Coca','Amazon','Intel']\n",
    "df"
   ]
  },
  {
   "cell_type": "code",
   "execution_count": 4,
   "id": "761e1ad8",
   "metadata": {
    "scrolled": true
   },
   "outputs": [
    {
     "data": {
      "text/html": [
       "<div>\n",
       "<style scoped>\n",
       "    .dataframe tbody tr th:only-of-type {\n",
       "        vertical-align: middle;\n",
       "    }\n",
       "\n",
       "    .dataframe tbody tr th {\n",
       "        vertical-align: top;\n",
       "    }\n",
       "\n",
       "    .dataframe thead th {\n",
       "        text-align: right;\n",
       "    }\n",
       "</style>\n",
       "<table border=\"1\" class=\"dataframe\">\n",
       "  <thead>\n",
       "    <tr style=\"text-align: right;\">\n",
       "      <th></th>\n",
       "      <th>Apple</th>\n",
       "      <th>Coca</th>\n",
       "      <th>Amazon</th>\n",
       "      <th>Intel</th>\n",
       "    </tr>\n",
       "    <tr>\n",
       "      <th>Date</th>\n",
       "      <th></th>\n",
       "      <th></th>\n",
       "      <th></th>\n",
       "      <th></th>\n",
       "    </tr>\n",
       "  </thead>\n",
       "  <tbody>\n",
       "    <tr>\n",
       "      <th>2013-01-03</th>\n",
       "      <td>-0.012622</td>\n",
       "      <td>0.000000</td>\n",
       "      <td>0.004547</td>\n",
       "      <td>-0.002806</td>\n",
       "    </tr>\n",
       "    <tr>\n",
       "      <th>2013-01-04</th>\n",
       "      <td>-0.027855</td>\n",
       "      <td>0.001596</td>\n",
       "      <td>0.002592</td>\n",
       "      <td>-0.007505</td>\n",
       "    </tr>\n",
       "    <tr>\n",
       "      <th>2013-01-07</th>\n",
       "      <td>-0.005882</td>\n",
       "      <td>-0.009559</td>\n",
       "      <td>0.035925</td>\n",
       "      <td>0.004253</td>\n",
       "    </tr>\n",
       "    <tr>\n",
       "      <th>2013-01-08</th>\n",
       "      <td>0.002691</td>\n",
       "      <td>-0.006970</td>\n",
       "      <td>-0.007748</td>\n",
       "      <td>-0.007529</td>\n",
       "    </tr>\n",
       "    <tr>\n",
       "      <th>2013-01-09</th>\n",
       "      <td>-0.015629</td>\n",
       "      <td>-0.000270</td>\n",
       "      <td>-0.000113</td>\n",
       "      <td>0.017070</td>\n",
       "    </tr>\n",
       "    <tr>\n",
       "      <th>...</th>\n",
       "      <td>...</td>\n",
       "      <td>...</td>\n",
       "      <td>...</td>\n",
       "      <td>...</td>\n",
       "    </tr>\n",
       "    <tr>\n",
       "      <th>2022-12-23</th>\n",
       "      <td>-0.002798</td>\n",
       "      <td>0.007578</td>\n",
       "      <td>0.017425</td>\n",
       "      <td>0.004621</td>\n",
       "    </tr>\n",
       "    <tr>\n",
       "      <th>2022-12-27</th>\n",
       "      <td>-0.013878</td>\n",
       "      <td>0.006111</td>\n",
       "      <td>-0.025924</td>\n",
       "      <td>-0.005749</td>\n",
       "    </tr>\n",
       "    <tr>\n",
       "      <th>2022-12-28</th>\n",
       "      <td>-0.030685</td>\n",
       "      <td>-0.009967</td>\n",
       "      <td>-0.014692</td>\n",
       "      <td>-0.015420</td>\n",
       "    </tr>\n",
       "    <tr>\n",
       "      <th>2022-12-29</th>\n",
       "      <td>0.028324</td>\n",
       "      <td>0.005978</td>\n",
       "      <td>0.028844</td>\n",
       "      <td>0.026233</td>\n",
       "    </tr>\n",
       "    <tr>\n",
       "      <th>2022-12-30</th>\n",
       "      <td>0.002469</td>\n",
       "      <td>-0.005317</td>\n",
       "      <td>-0.002138</td>\n",
       "      <td>0.008394</td>\n",
       "    </tr>\n",
       "  </tbody>\n",
       "</table>\n",
       "<p>2517 rows × 4 columns</p>\n",
       "</div>"
      ],
      "text/plain": [
       "               Apple      Coca    Amazon     Intel\n",
       "Date                                              \n",
       "2013-01-03 -0.012622  0.000000  0.004547 -0.002806\n",
       "2013-01-04 -0.027855  0.001596  0.002592 -0.007505\n",
       "2013-01-07 -0.005882 -0.009559  0.035925  0.004253\n",
       "2013-01-08  0.002691 -0.006970 -0.007748 -0.007529\n",
       "2013-01-09 -0.015629 -0.000270 -0.000113  0.017070\n",
       "...              ...       ...       ...       ...\n",
       "2022-12-23 -0.002798  0.007578  0.017425  0.004621\n",
       "2022-12-27 -0.013878  0.006111 -0.025924 -0.005749\n",
       "2022-12-28 -0.030685 -0.009967 -0.014692 -0.015420\n",
       "2022-12-29  0.028324  0.005978  0.028844  0.026233\n",
       "2022-12-30  0.002469 -0.005317 -0.002138  0.008394\n",
       "\n",
       "[2517 rows x 4 columns]"
      ]
     },
     "execution_count": 4,
     "metadata": {},
     "output_type": "execute_result"
    }
   ],
   "source": [
    "# On crée notre DataFrame de performance \n",
    "returns = df.pct_change()\n",
    "returns = returns.dropna()\n",
    "returns"
   ]
  },
  {
   "cell_type": "markdown",
   "id": "0b79a271",
   "metadata": {},
   "source": [
    "# 2-/ Statistiques "
   ]
  },
  {
   "cell_type": "code",
   "execution_count": 130,
   "id": "fdecbf9a",
   "metadata": {},
   "outputs": [],
   "source": [
    "def returns_ann(r, periode_par_an): # on annualise les performances   \n",
    "    compounded_growth = (1+r).prod()\n",
    "    n_periode = r.shape[0]\n",
    "    return compounded_growth**(periode_par_an/n_periode)-1\n",
    "\n",
    "def vol_ann(r, periode_par_an):#on annualise la volatilité \n",
    "    return r.std()*(periode_par_an**0.5)\n",
    "\n",
    "def ratio_sharpe(r, taux_sans_risque, periode_par_an):\n",
    "    # on convertis le taux sans risque annuel en période\n",
    "    rf_par_periode = (1+taux_sans_risque)**(1/periode_par_an)-1\n",
    "    excess_ret = r - rf_par_periode\n",
    "    ann_ex_ret = returns_ann(excess_ret, periode_par_an)\n",
    "    ann_vol = vol_ann(r, periode_par_an)\n",
    "    return ann_ex_ret/ann_vol\n",
    "\n",
    "def drawdown(return_series: pd.Series):# Montre les baisse les plus importante\n",
    "\n",
    "    wealth_index = 1000*(1+return_series).cumprod()\n",
    "    previous_peaks = wealth_index.cummax()\n",
    "    drawdowns = (wealth_index - previous_peaks)/previous_peaks\n",
    "    return pd.DataFrame({\"Wealth\": wealth_index, \n",
    "                         \"Previous Peak\": previous_peaks, \n",
    "                         \"Drawdown\": drawdowns})\n",
    "\n",
    "def skewness(r):\n",
    " \n",
    "    demeaned_r = r - r.mean()\n",
    "    sigma_r = r.std(ddof=0)\n",
    "    exp = (demeaned_r**3).mean()\n",
    "    return exp/sigma_r**3\n",
    "\n",
    "def kurtosis(r):    \n",
    "    demeaned_r = r - r.mean()\n",
    "    sigma_r = r.std(ddof=0)\n",
    "    exp = (demeaned_r**4).mean()\n",
    "    return exp/sigma_r**4"
   ]
  },
  {
   "cell_type": "code",
   "execution_count": 6,
   "id": "f2098916",
   "metadata": {},
   "outputs": [
    {
     "data": {
      "text/plain": [
       "Apple     0.208440\n",
       "Coca      0.054049\n",
       "Amazon    0.206653\n",
       "Intel     0.021457\n",
       "dtype: float64"
      ]
     },
     "execution_count": 6,
     "metadata": {},
     "output_type": "execute_result"
    }
   ],
   "source": [
    "returns_ann(returns, 252)"
   ]
  },
  {
   "cell_type": "code",
   "execution_count": 7,
   "id": "8566a0ba",
   "metadata": {},
   "outputs": [
    {
     "data": {
      "text/plain": [
       "Apple     0.290766\n",
       "Coca      0.181801\n",
       "Amazon    0.326109\n",
       "Intel     0.308377\n",
       "dtype: float64"
      ]
     },
     "execution_count": 7,
     "metadata": {},
     "output_type": "execute_result"
    }
   ],
   "source": [
    "vol_ann(returns, 252)"
   ]
  },
  {
   "cell_type": "code",
   "execution_count": 8,
   "id": "7e5297bc",
   "metadata": {},
   "outputs": [
    {
     "data": {
      "text/plain": [
       "Apple     0.595869\n",
       "Coca      0.128436\n",
       "Amazon    0.525966\n",
       "Intel    -0.026919\n",
       "dtype: float64"
      ]
     },
     "execution_count": 8,
     "metadata": {},
     "output_type": "execute_result"
    }
   ],
   "source": [
    "ratio_sharpe(returns, 0.03, 252)"
   ]
  },
  {
   "cell_type": "code",
   "execution_count": 9,
   "id": "3b839066",
   "metadata": {},
   "outputs": [],
   "source": [
    "def semideviation(r):   \n",
    "    is_negative = r < 0\n",
    "    return r[is_negative].std(ddof=0)"
   ]
  },
  {
   "cell_type": "code",
   "execution_count": 10,
   "id": "5ce0e5c6",
   "metadata": {},
   "outputs": [
    {
     "data": {
      "text/plain": [
       "Apple     0.013473\n",
       "Coca      0.009326\n",
       "Amazon    0.014773\n",
       "Intel     0.015123\n",
       "dtype: float64"
      ]
     },
     "execution_count": 10,
     "metadata": {},
     "output_type": "execute_result"
    }
   ],
   "source": [
    "semideviation(returns)"
   ]
  },
  {
   "cell_type": "code",
   "execution_count": 11,
   "id": "c9830c58",
   "metadata": {},
   "outputs": [],
   "source": [
    "def var_historic(r, level=5):\n",
    "    if isinstance(r, pd.DataFrame):\n",
    "        return r.aggregate(var_historic, level=level)\n",
    "    elif isinstance(r, pd.Series):\n",
    "        return -np.percentile(r, level)\n",
    "    else:\n",
    "        raise TypeError(\"Expected r to be a Series or DataFrame\")"
   ]
  },
  {
   "cell_type": "code",
   "execution_count": 12,
   "id": "70ec9e61",
   "metadata": {},
   "outputs": [
    {
     "data": {
      "text/plain": [
       "Apple     0.027132\n",
       "Coca      0.016248\n",
       "Amazon    0.030627\n",
       "Intel     0.027669\n",
       "dtype: float64"
      ]
     },
     "execution_count": 12,
     "metadata": {},
     "output_type": "execute_result"
    }
   ],
   "source": [
    "var_historic(returns, level=5)"
   ]
  },
  {
   "cell_type": "code",
   "execution_count": 129,
   "id": "dfc30a23",
   "metadata": {},
   "outputs": [],
   "source": [
    "\n",
    "def var_gaussian(r, level=5, modified=False): #Parametric Gausian VaR avec ou non la modification de Cornish-Fisher\n",
    "    \n",
    "    # compute the Z score assuming it was Gaussian\n",
    "    z = norm.ppf(level/100)\n",
    "    if modified:\n",
    "        # modify the Z score based on observed skewness and kurtosis\n",
    "        s = skewness(r)\n",
    "        k = kurtosis(r)\n",
    "        z = (z +\n",
    "                (z**2 - 1)*s/6 +\n",
    "                (z**3 -3*z)*(k-3)/24 -\n",
    "                (2*z**3 - 5*z)*(s**2)/36\n",
    "            )\n",
    "    return -(r.mean() + z*r.std(ddof=0))\n",
    "\n",
    "def cvar_historic(r, level=5):\n",
    "    \"\"\"\n",
    "    Computes the Conditional VaR of Series or DataFrame\n",
    "    \"\"\"\n",
    "    if isinstance(r, pd.Series):\n",
    "        is_beyond = r <= -var_historic(r, level=level)\n",
    "        return -r[is_beyond].mean()\n",
    "    elif isinstance(r, pd.DataFrame):\n",
    "        return r.aggregate(cvar_historic, level=level)\n",
    "    else:\n",
    "        raise TypeError(\"Expected r to be a Series or DataFrame\")"
   ]
  },
  {
   "cell_type": "code",
   "execution_count": 99,
   "id": "714ad8de",
   "metadata": {},
   "outputs": [
    {
     "data": {
      "text/plain": [
       "Apple     0.029202\n",
       "Coca      0.018559\n",
       "Amazon    0.032827\n",
       "Intel     0.031673\n",
       "dtype: float64"
      ]
     },
     "execution_count": 99,
     "metadata": {},
     "output_type": "execute_result"
    }
   ],
   "source": [
    "var_gaussian(returns, level=5)"
   ]
  },
  {
   "cell_type": "code",
   "execution_count": 100,
   "id": "12fd5fa9",
   "metadata": {},
   "outputs": [
    {
     "data": {
      "text/plain": [
       "Apple     0.027775\n",
       "Coca      0.018527\n",
       "Amazon    0.028407\n",
       "Intel     0.027570\n",
       "dtype: float64"
      ]
     },
     "execution_count": 100,
     "metadata": {},
     "output_type": "execute_result"
    }
   ],
   "source": [
    "var_gaussian(returns, level=5, modified=True)"
   ]
  },
  {
   "cell_type": "code",
   "execution_count": 103,
   "id": "255e643c",
   "metadata": {},
   "outputs": [
    {
     "data": {
      "text/plain": [
       "<AxesSubplot:title={'center':'Hedge Fund Indices: VaR at 5%'}>"
      ]
     },
     "execution_count": 103,
     "metadata": {},
     "output_type": "execute_result"
    },
    {
     "data": {
      "image/png": "[encoded data removed]",
      "text/plain": [
       "<Figure size 432x288 with 1 Axes>"
      ]
     },
     "metadata": {
      "needs_background": "light"
     },
     "output_type": "display_data"
    }
   ],
   "source": [
    "var_table = [var_gaussian(returns), \n",
    "             var_gaussian(returns, modified=True), \n",
    "             var_historic(returns)]\n",
    "comparison = pd.concat(var_table, axis=1)\n",
    "comparison.columns=['Gaussian', 'Cornish-Fisher', 'Historic']\n",
    "comparison.plot.bar(title=\"Hedge Fund Indices: VaR at 5%\")"
   ]
  },
  {
   "cell_type": "markdown",
   "id": "3fd2a678",
   "metadata": {},
   "source": [
    "# 3-/ Gestion de Portefeuille"
   ]
  },
  {
   "cell_type": "code",
   "execution_count": 53,
   "id": "21e99564",
   "metadata": {},
   "outputs": [],
   "source": [
    "def portfolio_return(weights, returns):\n",
    "    return weights.T @ returns\n",
    "\n",
    "def portfolio_vol(weights, covmat):\n",
    "    return (weights.T @ covmat @ weights)**0.5\n"
   ]
  },
  {
   "cell_type": "code",
   "execution_count": 54,
   "id": "c32623ea",
   "metadata": {},
   "outputs": [
    {
     "data": {
      "text/html": [
       "<div>\n",
       "<style scoped>\n",
       "    .dataframe tbody tr th:only-of-type {\n",
       "        vertical-align: middle;\n",
       "    }\n",
       "\n",
       "    .dataframe tbody tr th {\n",
       "        vertical-align: top;\n",
       "    }\n",
       "\n",
       "    .dataframe thead th {\n",
       "        text-align: right;\n",
       "    }\n",
       "</style>\n",
       "<table border=\"1\" class=\"dataframe\">\n",
       "  <thead>\n",
       "    <tr style=\"text-align: right;\">\n",
       "      <th></th>\n",
       "      <th>Apple</th>\n",
       "      <th>Coca</th>\n",
       "      <th>Amazon</th>\n",
       "      <th>Intel</th>\n",
       "    </tr>\n",
       "  </thead>\n",
       "  <tbody>\n",
       "    <tr>\n",
       "      <th>Apple</th>\n",
       "      <td>0.000335</td>\n",
       "      <td>0.000072</td>\n",
       "      <td>0.000191</td>\n",
       "      <td>0.000182</td>\n",
       "    </tr>\n",
       "    <tr>\n",
       "      <th>Coca</th>\n",
       "      <td>0.000072</td>\n",
       "      <td>0.000131</td>\n",
       "      <td>0.000057</td>\n",
       "      <td>0.000082</td>\n",
       "    </tr>\n",
       "    <tr>\n",
       "      <th>Amazon</th>\n",
       "      <td>0.000191</td>\n",
       "      <td>0.000057</td>\n",
       "      <td>0.000422</td>\n",
       "      <td>0.000160</td>\n",
       "    </tr>\n",
       "    <tr>\n",
       "      <th>Intel</th>\n",
       "      <td>0.000182</td>\n",
       "      <td>0.000082</td>\n",
       "      <td>0.000160</td>\n",
       "      <td>0.000377</td>\n",
       "    </tr>\n",
       "  </tbody>\n",
       "</table>\n",
       "</div>"
      ],
      "text/plain": [
       "           Apple      Coca    Amazon     Intel\n",
       "Apple   0.000335  0.000072  0.000191  0.000182\n",
       "Coca    0.000072  0.000131  0.000057  0.000082\n",
       "Amazon  0.000191  0.000057  0.000422  0.000160\n",
       "Intel   0.000182  0.000082  0.000160  0.000377"
      ]
     },
     "execution_count": 54,
     "metadata": {},
     "output_type": "execute_result"
    }
   ],
   "source": [
    "cov = returns.cov()\n",
    "cov"
   ]
  },
  {
   "cell_type": "code",
   "execution_count": 55,
   "id": "7c8e9edf",
   "metadata": {},
   "outputs": [],
   "source": [
    "def minimize_vol(target_return, er, cov):# donne le poids optimal de chaque actifs pour une volatilité maximale donnée\n",
    "    \n",
    "    n = er.shape[0]\n",
    "    init_guess = np.repeat(1/n, n)\n",
    "    bounds = ((0.0, 1.0),) * n \n",
    "\n",
    "    weights_sum_to_1 = {'type': 'eq',\n",
    "                        'fun': lambda weights: np.sum(weights) - 1\n",
    "    }\n",
    "    return_is_target = {'type': 'eq',\n",
    "                        'args': (er,),\n",
    "                        'fun': lambda weights, er: target_return - portfolio_return(weights,er)\n",
    "    }\n",
    "    weights = minimize(portfolio_vol, init_guess,\n",
    "                       args=(cov,), method='SLSQP',\n",
    "                       options={'disp': False},\n",
    "                       constraints=(weights_sum_to_1,return_is_target),\n",
    "                       bounds=bounds)\n",
    "    return weights.x"
   ]
  },
  {
   "cell_type": "code",
   "execution_count": 56,
   "id": "b0d7b42c",
   "metadata": {},
   "outputs": [
    {
     "data": {
      "text/plain": [
       "array([3.45317005e-01, 3.75286118e-01, 2.79396877e-01, 5.55111512e-17])"
      ]
     },
     "execution_count": 56,
     "metadata": {},
     "output_type": "execute_result"
    }
   ],
   "source": [
    "minimize_vol(0.15, returns_ann(returns,252), cov)"
   ]
  },
  {
   "cell_type": "markdown",
   "id": "984c5225",
   "metadata": {},
   "source": [
    "#### Pour une volatilité maxiamle de 0.15, notre portefeuille sera composé a 34% d'Apple, 37% de Coca et 28% d'Amazon"
   ]
  },
  {
   "cell_type": "code",
   "execution_count": 104,
   "id": "3eff486b",
   "metadata": {},
   "outputs": [],
   "source": [
    "def optimal_weights(n_points, er, cov):\n",
    "    \"\"\"\n",
    "    \"\"\"\n",
    "    target_rs = np.linspace(er.min(), er.max(), n_points)\n",
    "    weights = [minimize_vol(target_return, er, cov) for target_return in target_rs]\n",
    "    return weights\n",
    "\n",
    "def plot_ef(n_points, er, cov): #affiche la frontière efficiente \n",
    "    \n",
    "    weights = optimal_weights(n_points, er, cov) \n",
    "    rets = [portfolio_return(w, er) for w in weights]\n",
    "    vols = [portfolio_vol(w, cov) for w in weights]\n",
    "    ef = pd.DataFrame({\n",
    "        \"Returns\": rets, \n",
    "        \"Volatility\": vols\n",
    "    })\n",
    "    return ef.plot.line(x=\"Volatility\", y=\"Returns\", style='.-')"
   ]
  },
  {
   "cell_type": "code",
   "execution_count": 58,
   "id": "13b4a00f",
   "metadata": {},
   "outputs": [
    {
     "data": {
      "text/plain": [
       "<AxesSubplot:xlabel='Volatility'>"
      ]
     },
     "execution_count": 58,
     "metadata": {},
     "output_type": "execute_result"
    },
    {
     "data": {
      "image/png": "[encoded data removed]",
      "text/plain": [
       "<Figure size 432x288 with 1 Axes>"
      ]
     },
     "metadata": {
      "needs_background": "light"
     },
     "output_type": "display_data"
    }
   ],
   "source": [
    "plot_ef(100, returns_ann(returns,252), cov)"
   ]
  },
  {
   "cell_type": "code",
   "execution_count": 59,
   "id": "3465f7a2",
   "metadata": {},
   "outputs": [],
   "source": [
    "def msr(riskfree_rate, er, cov): # donne le poids optimal de chaque actifs pour maximiser le ratio de Sharpe\n",
    "    \n",
    "    n = er.shape[0]\n",
    "    init_guess = np.repeat(1/n, n)\n",
    "    bounds = ((0.0, 1.0),) * n # an N-tuple of 2-tuples!\n",
    "    # construct the constraints\n",
    "    weights_sum_to_1 = {'type': 'eq',\n",
    "                        'fun': lambda weights: np.sum(weights) - 1\n",
    "    }\n",
    "    def neg_sharpe(weights, riskfree_rate, er, cov): # le négatif du ratio de Sharpe\n",
    "        \n",
    "        r = portfolio_return(weights, er)\n",
    "        vol = portfolio_vol(weights, cov)\n",
    "        return -(r - riskfree_rate)/vol\n",
    "\n",
    "    weights = minimize(neg_sharpe, init_guess,\n",
    "                       args=(riskfree_rate, er, cov), method='SLSQP',\n",
    "                       options={'disp': False},\n",
    "                       constraints=(weights_sum_to_1,),\n",
    "                       bounds=bounds)\n",
    "    return weights.x"
   ]
  },
  {
   "cell_type": "code",
   "execution_count": 60,
   "id": "1cb9c4e0",
   "metadata": {},
   "outputs": [
    {
     "data": {
      "text/plain": [
       "array([6.22395325e-01, 0.00000000e+00, 3.77604675e-01, 3.19704116e-15])"
      ]
     },
     "execution_count": 60,
     "metadata": {},
     "output_type": "execute_result"
    }
   ],
   "source": [
    "msr(0.03, returns_ann(returns,252), cov)"
   ]
  },
  {
   "cell_type": "markdown",
   "id": "02142379",
   "metadata": {},
   "source": [
    "#### Le portefeuille qui maximise le ratio de Sharpe est composé à 62% d'Apple et 37% d'Amazon"
   ]
  },
  {
   "cell_type": "code",
   "execution_count": 105,
   "id": "eefb9117",
   "metadata": {},
   "outputs": [
    {
     "data": {
      "text/plain": [
       "[<matplotlib.lines.Line2D at 0x20f79e67460>]"
      ]
     },
     "execution_count": 105,
     "metadata": {},
     "output_type": "execute_result"
    },
    {
     "data": {
      "image/png": "[encoded data removed]",
      "text/plain": [
       "<Figure size 432x288 with 1 Axes>"
      ]
     },
     "metadata": {
      "needs_background": "light"
     },
     "output_type": "display_data"
    }
   ],
   "source": [
    "# plot Frontiere efficiente\n",
    "ax = plot_ef(100, returns_ann(returns,252), cov)\n",
    "ax.set_xlim(left = 0)\n",
    "# MSR\n",
    "rf = 0.1\n",
    "w_msr = msr(rf, returns_ann(returns,252), cov)\n",
    "r_msr = portfolio_return(w_msr, returns_ann(returns,252))\n",
    "vol_msr = portfolio_vol(w_msr, cov)\n",
    "# CML\n",
    "cml_x = [0, vol_msr]\n",
    "cml_y = [rf, r_msr]\n",
    "ax.plot(cml_x, cml_y, color='green', marker='o', linestyle='dashed', linewidth=2, markersize=12)"
   ]
  },
  {
   "cell_type": "code",
   "execution_count": 62,
   "id": "66ffc723",
   "metadata": {},
   "outputs": [
    {
     "data": {
      "text/plain": [
       "(0.2077737618504759, 0.01672542670746284)"
      ]
     },
     "execution_count": 62,
     "metadata": {},
     "output_type": "execute_result"
    }
   ],
   "source": [
    "r_msr, vol_msr"
   ]
  },
  {
   "cell_type": "markdown",
   "id": "ceebe9bf",
   "metadata": {},
   "source": [
    "#### Le portefeuille MSR offre une espérance de rendement de 0.2 avec une volatilité de 0.016 "
   ]
  },
  {
   "cell_type": "markdown",
   "id": "0c972d22",
   "metadata": {},
   "source": [
    "# 4-/ Constant proportion portfolio insurance\n"
   ]
  },
  {
   "cell_type": "code",
   "execution_count": 136,
   "id": "d47188ce",
   "metadata": {},
   "outputs": [],
   "source": [
    "risky_r = returns\n",
    "\n",
    "safe_r = pd.DataFrame().reindex_like(risky_r)\n",
    "safe_r.values[:] = 0.03/12 \n",
    "start = 1000 \n",
    "floor = 0.80 "
   ]
  },
  {
   "cell_type": "code",
   "execution_count": 137,
   "id": "03ff9ea6",
   "metadata": {},
   "outputs": [],
   "source": [
    "# mise en place des paramètre du CPPI\n",
    "dates = risky_r.index\n",
    "n_steps = len(dates)\n",
    "account_value = start\n",
    "floor_value = start*floor\n",
    "m = 3\n",
    "\n",
    "# DataFrames pour sauvegarder les données\n",
    "account_history = pd.DataFrame().reindex_like(risky_r)\n",
    "risky_w_history = pd.DataFrame().reindex_like(risky_r)\n",
    "cushion_history = pd.DataFrame().reindex_like(risky_r)"
   ]
  },
  {
   "cell_type": "code",
   "execution_count": 146,
   "id": "4cdefab9",
   "metadata": {},
   "outputs": [],
   "source": [
    "def run_cppi(risky_r, safe_r=None, m=3, start=1000, floor=0.8, riskfree_rate=0.03, drawdown=None):\n",
    "    # Fait un Backtest du CPPI\n",
    "    \n",
    "    \n",
    "    # Paramètres\n",
    "    dates = risky_r.index\n",
    "    n_steps = len(dates)\n",
    "    account_value = start\n",
    "    floor_value = start*floor\n",
    "    peak = account_value\n",
    "    if isinstance(risky_r, pd.Series): \n",
    "        risky_r = pd.DataFrame(risky_r, columns=[\"R\"])\n",
    "\n",
    "    if safe_r is None:\n",
    "        safe_r = pd.DataFrame().reindex_like(risky_r)\n",
    "        safe_r.values[:] = riskfree_rate/12 # fast way to set all values to a number\n",
    "    \n",
    "    account_history = pd.DataFrame().reindex_like(risky_r)\n",
    "    risky_w_history = pd.DataFrame().reindex_like(risky_r)\n",
    "    cushion_history = pd.DataFrame().reindex_like(risky_r)\n",
    "    floorval_history = pd.DataFrame().reindex_like(risky_r)\n",
    "    peak_history = pd.DataFrame().reindex_like(risky_r)\n",
    "\n",
    "    for step in range(n_steps):\n",
    "        if drawdown is not None:\n",
    "            peak = np.maximum(peak, account_value)\n",
    "            floor_value = peak*(1-drawdown)\n",
    "        cushion = (account_value - floor_value)/account_value\n",
    "        risky_w = m*cushion\n",
    "        risky_w = np.minimum(risky_w, 1)\n",
    "        risky_w = np.maximum(risky_w, 0)\n",
    "        safe_w = 1-risky_w\n",
    "        risky_alloc = account_value*risky_w\n",
    "        safe_alloc = account_value*safe_w\n",
    "        \n",
    "        account_value = risky_alloc*(1+risky_r.iloc[step]) + safe_alloc*(1+safe_r.iloc[step])\n",
    "      \n",
    "        cushion_history.iloc[step] = cushion\n",
    "        risky_w_history.iloc[step] = risky_w\n",
    "        account_history.iloc[step] = account_value\n",
    "        floorval_history.iloc[step] = floor_value\n",
    "        peak_history.iloc[step] = peak\n",
    "    risky_wealth = start*(1+risky_r).cumprod()\n",
    "    backtest_result = {\n",
    "        \"Wealth\": account_history,\n",
    "        \"Risky Wealth\": risky_wealth, \n",
    "        \"Risk Budget\": cushion_history,\n",
    "        \"Risky Allocation\": risky_w_history,\n",
    "        \"m\": m,\n",
    "        \"start\": start,\n",
    "        \"floor\": floor,\n",
    "        \"risky_r\":risky_r,\n",
    "        \"safe_r\": safe_r,\n",
    "        \"drawdown\": drawdown,\n",
    "        \"peak\": peak_history,\n",
    "        \"floor\": floorval_history\n",
    "    }\n",
    "    return backtest_result"
   ]
  },
  {
   "cell_type": "code",
   "execution_count": 147,
   "id": "d7366f80",
   "metadata": {},
   "outputs": [],
   "source": [
    "def summary_stats(r, riskfree_rate=0.03):\n",
    "    # donne les stat descriptives du CPPI\n",
    "    \n",
    "    ann_r = r.aggregate(returns_ann, periode_par_an=12)\n",
    "    ann_vol = r.aggregate(vol_ann, periode_par_an=12)\n",
    "    ann_sr = r.aggregate(ratio_sharpe, taux_sans_risque=riskfree_rate, periode_par_an=12)\n",
    "    dd = r.aggregate(lambda r: drawdown(r).Drawdown.min())\n",
    "    skew = r.aggregate(skewness)\n",
    "    kurt = r.aggregate(kurtosis)\n",
    "    cf_var5 = r.aggregate(var_gaussian, modified=True)\n",
    "    hist_cvar5 = r.aggregate(cvar_historic)\n",
    "    return pd.DataFrame({\n",
    "        \"Annualized Return\": ann_r,\n",
    "        \"Annualized Vol\": ann_vol,\n",
    "        \"Skewness\": skew,\n",
    "        \"Kurtosis\": kurt,\n",
    "        \"Cornish-Fisher VaR (5%)\": cf_var5,\n",
    "        \"Historic CVaR (5%)\": hist_cvar5,\n",
    "        \"Sharpe Ratio\": ann_sr,\n",
    "        \"Max Drawdown\": dd\n",
    "    })"
   ]
  },
  {
   "cell_type": "code",
   "execution_count": 151,
   "id": "5f422b66",
   "metadata": {},
   "outputs": [
    {
     "data": {
      "text/plain": [
       "<AxesSubplot:xlabel='Date'>"
      ]
     },
     "execution_count": 151,
     "metadata": {},
     "output_type": "execute_result"
    },
    {
     "data": {
      "image/png": "[encoded data removed]",
      "text/plain": [
       "<Figure size 864x576 with 1 Axes>"
      ]
     },
     "metadata": {
      "needs_background": "light"
     },
     "output_type": "display_data"
    }
   ],
   "source": [
    "btr = run_cppi(returns, drawdown=0.25)\n",
    "ax = btr[\"Wealth\"].plot(figsize=(12,8))\n",
    "btr[\"Risky Wealth\"].plot(ax=ax, style=\"--\")"
   ]
  },
  {
   "cell_type": "code",
   "execution_count": 149,
   "id": "20bd4420",
   "metadata": {},
   "outputs": [
    {
     "data": {
      "text/html": [
       "<div>\n",
       "<style scoped>\n",
       "    .dataframe tbody tr th:only-of-type {\n",
       "        vertical-align: middle;\n",
       "    }\n",
       "\n",
       "    .dataframe tbody tr th {\n",
       "        vertical-align: top;\n",
       "    }\n",
       "\n",
       "    .dataframe thead th {\n",
       "        text-align: right;\n",
       "    }\n",
       "</style>\n",
       "<table border=\"1\" class=\"dataframe\">\n",
       "  <thead>\n",
       "    <tr style=\"text-align: right;\">\n",
       "      <th></th>\n",
       "      <th>Annualized Return</th>\n",
       "      <th>Annualized Vol</th>\n",
       "      <th>Sharpe Ratio</th>\n",
       "      <th>Max Drawdown</th>\n",
       "    </tr>\n",
       "  </thead>\n",
       "  <tbody>\n",
       "    <tr>\n",
       "      <th>Apple</th>\n",
       "      <td>0.016213</td>\n",
       "      <td>0.039324</td>\n",
       "      <td>-0.341274</td>\n",
       "      <td>-0.174586</td>\n",
       "    </tr>\n",
       "    <tr>\n",
       "      <th>Coca</th>\n",
       "      <td>0.010413</td>\n",
       "      <td>0.025898</td>\n",
       "      <td>-0.736115</td>\n",
       "      <td>-0.188350</td>\n",
       "    </tr>\n",
       "    <tr>\n",
       "      <th>Amazon</th>\n",
       "      <td>0.016482</td>\n",
       "      <td>0.043933</td>\n",
       "      <td>-0.299510</td>\n",
       "      <td>-0.184549</td>\n",
       "    </tr>\n",
       "    <tr>\n",
       "      <th>Intel</th>\n",
       "      <td>0.011215</td>\n",
       "      <td>0.040398</td>\n",
       "      <td>-0.452619</td>\n",
       "      <td>-0.194361</td>\n",
       "    </tr>\n",
       "  </tbody>\n",
       "</table>\n",
       "</div>"
      ],
      "text/plain": [
       "        Annualized Return  Annualized Vol  Sharpe Ratio  Max Drawdown\n",
       "Apple            0.016213        0.039324     -0.341274     -0.174586\n",
       "Coca             0.010413        0.025898     -0.736115     -0.188350\n",
       "Amazon           0.016482        0.043933     -0.299510     -0.184549\n",
       "Intel            0.011215        0.040398     -0.452619     -0.194361"
      ]
     },
     "execution_count": 149,
     "metadata": {},
     "output_type": "execute_result"
    }
   ],
   "source": [
    "summary_stats(btr[\"Wealth\"].pct_change().dropna())[[\"Annualized Return\", \"Annualized Vol\", \"Sharpe Ratio\", \"Max Drawdown\"]]\n"
   ]
  },
  {
   "cell_type": "code",
   "execution_count": 150,
   "id": "11cac514",
   "metadata": {},
   "outputs": [
    {
     "data": {
      "text/html": [
       "<div>\n",
       "<style scoped>\n",
       "    .dataframe tbody tr th:only-of-type {\n",
       "        vertical-align: middle;\n",
       "    }\n",
       "\n",
       "    .dataframe tbody tr th {\n",
       "        vertical-align: top;\n",
       "    }\n",
       "\n",
       "    .dataframe thead th {\n",
       "        text-align: right;\n",
       "    }\n",
       "</style>\n",
       "<table border=\"1\" class=\"dataframe\">\n",
       "  <thead>\n",
       "    <tr style=\"text-align: right;\">\n",
       "      <th></th>\n",
       "      <th>Annualized Return</th>\n",
       "      <th>Annualized Vol</th>\n",
       "      <th>Sharpe Ratio</th>\n",
       "      <th>Max Drawdown</th>\n",
       "    </tr>\n",
       "  </thead>\n",
       "  <tbody>\n",
       "    <tr>\n",
       "      <th>Apple</th>\n",
       "      <td>0.009121</td>\n",
       "      <td>0.063456</td>\n",
       "      <td>-0.320301</td>\n",
       "      <td>-0.387297</td>\n",
       "    </tr>\n",
       "    <tr>\n",
       "      <th>Coca</th>\n",
       "      <td>0.002511</td>\n",
       "      <td>0.039680</td>\n",
       "      <td>-0.674281</td>\n",
       "      <td>-0.375353</td>\n",
       "    </tr>\n",
       "    <tr>\n",
       "      <th>Amazon</th>\n",
       "      <td>0.008967</td>\n",
       "      <td>0.071177</td>\n",
       "      <td>-0.287683</td>\n",
       "      <td>-0.561453</td>\n",
       "    </tr>\n",
       "    <tr>\n",
       "      <th>Intel</th>\n",
       "      <td>0.001025</td>\n",
       "      <td>0.067306</td>\n",
       "      <td>-0.419052</td>\n",
       "      <td>-0.634292</td>\n",
       "    </tr>\n",
       "  </tbody>\n",
       "</table>\n",
       "</div>"
      ],
      "text/plain": [
       "        Annualized Return  Annualized Vol  Sharpe Ratio  Max Drawdown\n",
       "Apple            0.009121        0.063456     -0.320301     -0.387297\n",
       "Coca             0.002511        0.039680     -0.674281     -0.375353\n",
       "Amazon           0.008967        0.071177     -0.287683     -0.561453\n",
       "Intel            0.001025        0.067306     -0.419052     -0.634292"
      ]
     },
     "execution_count": 150,
     "metadata": {},
     "output_type": "execute_result"
    }
   ],
   "source": [
    "summary_stats(btr[\"Risky Wealth\"].pct_change().dropna())[[\"Annualized Return\", \"Annualized Vol\", \"Sharpe Ratio\", \"Max Drawdown\"]]"
   ]
  },
  {
   "cell_type": "markdown",
   "id": "56bacd0e",
   "metadata": {},
   "source": [
    "#### La gestion en CPPI de nos 4 actifs(ligne continue) nous permet d'augmenter la rentabilité espérée et de baisser la volatilité et la perte maximale par rapport à une gestion classique des ces actifs (ligne discontinue)"
   ]
  },
  {
   "cell_type": "code",
   "execution_count": null,
   "id": "acf99f57",
   "metadata": {},
   "outputs": [],
   "source": []
  }
 ],
 "metadata": {
  "kernelspec": {
   "display_name": "Python 3 (ipykernel)",
   "language": "python",
   "name": "python3"
  },
  "language_info": {
   "codemirror_mode": {
    "name": "ipython",
    "version": 3
   },
   "file_extension": ".py",
   "mimetype": "text/x-python",
   "name": "python",
   "nbconvert_exporter": "python",
   "pygments_lexer": "ipython3",
   "version": "3.9.12"
  }
 },
 "nbformat": 4,
 "nbformat_minor": 5
}
